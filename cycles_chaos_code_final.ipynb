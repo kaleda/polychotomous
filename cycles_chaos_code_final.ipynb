{
 "cells": [
  {
   "cell_type": "markdown",
   "id": "e3a59d47-e7d8-4e26-ae37-8470f1e7c9db",
   "metadata": {},
   "source": [
    "## Model of polychotomous (anti)conformity with $n$ role models and $m$ variants"
   ]
  },
  {
   "cell_type": "code",
   "execution_count": 1,
   "id": "600fd4a3-85a7-431a-9e52-807c12a44a01",
   "metadata": {},
   "outputs": [],
   "source": [
    "import numpy as np\n",
    "import math\n",
    "import matplotlib.pyplot as plt\n",
    "from matplotlib.pyplot import figure"
   ]
  },
  {
   "cell_type": "code",
   "execution_count": 2,
   "id": "21aec20c-6112-4c6b-b664-290d40cc7a46",
   "metadata": {},
   "outputs": [],
   "source": [
    "def rounding(frqs):\n",
    "    \"\"\"\n",
    "    The input to this function is frqs, a list of frequencies that all must be between 0 and 1 \n",
    "    and sum to 1. The output is the list of frequencies without rounding error. \n",
    "    \"\"\"    \n",
    "    frqs_in_bounds = []\n",
    "    for frq in frqs: # Ensure that all frequencies are in [0,1] \n",
    "        if frq < 0: frq = 0\n",
    "        elif frq > 1: frq = 1\n",
    "        frqs_in_bounds.append(frq)\n",
    "    \n",
    "    valid_frqs = []\n",
    "    normalizer = np.sum(frqs_in_bounds)\n",
    "    for frq in frqs_in_bounds: # Ensure that all frequencies sum to 1 \n",
    "        frq /= normalizer \n",
    "        valid_frqs.append(frq)\n",
    "    return valid_frqs "
   ]
  },
  {
   "cell_type": "code",
   "execution_count": 3,
   "id": "ae7580c3-1910-41f7-94c4-86785dad8742",
   "metadata": {},
   "outputs": [],
   "source": [
    "def get_states(n, m):\n",
    "    \"\"\"\n",
    "    This function takes in n, the number of role models, and m, the number\n",
    "    of phenotypes, and outputs all possible role model states.\n",
    "    Credit to: Mark Tolonen, 2019, “Generate all possible lists of length N that sum to S in Python.”\n",
    "    https://stackoverflow.com/questions/7748442/generate-all-possible-lists-of-length-n-that-sum-to-s-in-python\n",
    "    \"\"\"\n",
    "    if m == 1:\n",
    "        yield (n,)\n",
    "    else:\n",
    "        for elem in range(n + 1):\n",
    "            for state in get_states(n - elem, m - 1):\n",
    "                yield (elem,) + state"
   ]
  },
  {
   "cell_type": "code",
   "execution_count": 4,
   "id": "b7da31d1-ed41-4478-8f39-d6192b8a3d6f",
   "metadata": {},
   "outputs": [],
   "source": [
    "def p_prime(n, p_vec):\n",
    "    \"\"\"\n",
    "    This function takes in n, the number of role models, and p_vec = (p1, p2, ..., pm),\n",
    "    the initial population frequencies of variants A1, A2, ..., Am, respectively.\n",
    "    It outputs the vector p_prime_vec = (p1', p2', ..., pm'). \n",
    "    \"\"\"\n",
    "    pr = 10 # Precision, which will be used later in the function\n",
    "    p_vec = rounding(p_vec) \n",
    "    m = len(p_vec) \n",
    "    states = list(get_states(n, m))  # Get all possible role model states\n",
    "    previous_states = {} # This dictionary will store previous, symmetrical role model states \n",
    "    \n",
    "    p_prime_vec = [None]*m\n",
    "    for j in range(m):\n",
    "        p_prime_vec[j] = p_vec[j] # This is the first term in Eq. 4 \n",
    "    \n",
    "    for x_vec in states: # For each role model state \n",
    "        # Make a unique string for each symmetrical role model configuration (to be used later)\n",
    "        x_vec_copy = list(x_vec).copy()\n",
    "        x_vec_copy.sort()\n",
    "        x_str = str(x_vec_copy[0])\n",
    "        for a in range(1,len(x_vec_copy)):\n",
    "            x_str = x_str + str(x_vec_copy[a]) \n",
    "\n",
    "        # Find the bounds on d(x)\n",
    "        x_subset = [j for j in x_vec if j != 0]\n",
    "        x_subset.sort(reverse=True)\n",
    "        x_avg = n / len(x_subset)\n",
    "\n",
    "        index = 0\n",
    "        denom_high = 0\n",
    "        if x_subset[index] > round(x_avg, pr): \n",
    "            while x_subset[index] > round(x_avg, pr):\n",
    "                denom_high += x_subset[index]\n",
    "                index += 1\n",
    "        else: # All elements are equal, and they equal the average\n",
    "            denom_high = 0\n",
    "\n",
    "        index = len(x_subset) - 1\n",
    "        denom_low = 0\n",
    "        if x_subset[index] < round(x_avg, pr):\n",
    "            while x_subset[index] < round(x_avg, pr):\n",
    "                denom_low += 1 / (x_subset[index])\n",
    "                index -= 1\n",
    "        else: # All elements are equal, and they equal the average\n",
    "            denom_low = 0 \n",
    "        \n",
    "        if x_str in previous_states:\n",
    "            d = previous_states[x_str] # To preserve symmetry      \n",
    "        else: \n",
    "            if round(denom_high,pr) == 0 or round(denom_low,pr) == 0:\n",
    "                d = 0\n",
    "            else:\n",
    "                d_min = -1 * denom_high\n",
    "                d_max = ((n / x_subset[0]) - 1) * denom_high\n",
    "                \n",
    "                # Only this part of the code is specific to Figure 3 in the paper...\n",
    "                if FIGURE_TYPE == \"3A\":\n",
    "                    d = -5.9\n",
    "                else:\n",
    "                    d = d_min + 0.1\n",
    "                # ...Ending here.  \n",
    "\n",
    "        previous_states[x_str] = float(d)\n",
    "        d = float(d)\n",
    "        \n",
    "        numerator = math.factorial(n)\n",
    "        denominator = 1\n",
    "        for l in range(len(x_vec)): \n",
    "            numerator *= p_vec[l] ** (x_vec[l])\n",
    "            denominator *= math.factorial(x_vec[l])\n",
    "            \n",
    "        for l in range(m):\n",
    "            x_l = x_vec[l]\n",
    "            if round(d,pr) == 0:\n",
    "                p_prime_vec[l] = p_prime_vec[l]\n",
    "            if (round(x_l, pr) == 0) or (round(x_l, pr) == n) or (round(x_l, pr) == round(x_avg, pr)):\n",
    "                p_prime_vec[l] = p_prime_vec[l]\n",
    "            elif x_l > x_avg:\n",
    "                conform = (x_l / denom_high) * (d / n)\n",
    "                p_prime_vec[l] = float(p_prime_vec[l] + (conform * numerator / denominator))\n",
    "            elif x_l < x_avg:\n",
    "                conform = - (1 / x_l) * (1 / denom_low) * (d / n)\n",
    "                p_prime_vec[l] = float(p_prime_vec[l] + (conform * numerator / denominator))\n",
    "            \n",
    "    return rounding(p_prime_vec)\n"
   ]
  },
  {
   "cell_type": "code",
   "execution_count": 5,
   "id": "bc6825a6-3600-4e0d-b7b7-ca593f1b3cf5",
   "metadata": {},
   "outputs": [],
   "source": [
    "def all_recursions(n, init_p, gen):\n",
    "    \"\"\"\n",
    "    Inputs are n, the number of role models; init_p = (p1, p2, ..., pm), \n",
    "    the initial population frequencies of variants A1, A2, ..., Am, respectively; \n",
    "    and gen, the number of generations that the simulation will run for. \n",
    "    \"\"\"\n",
    "    p_vec = rounding(init_p) \n",
    "    m = len(init_p)\n",
    "    all_p_over_time = [[None]]*m\n",
    "    for j in range(m):\n",
    "        all_p_over_time[j] = [p_vec[j]] \n",
    "    \n",
    "    for i in range(gen): \n",
    "        p_vec = p_prime(n, p_vec)\n",
    "        for j in range(m):\n",
    "            all_p_over_time[j].append(p_vec[j])\n",
    "            \n",
    "    return all_p_over_time \n"
   ]
  },
  {
   "cell_type": "markdown",
   "id": "a4f80974-b11d-4b39-bc21-fb2cb221f857",
   "metadata": {},
   "source": [
    "## Figure 3"
   ]
  },
  {
   "cell_type": "code",
   "execution_count": 6,
   "id": "93e4ed98-b5f7-4d5b-adbe-1a65b63e1052",
   "metadata": {},
   "outputs": [],
   "source": [
    "gen = 10000\n",
    "n = 15\n",
    "p1 = 0.48\n",
    "p2 = 0.501\n",
    "p3 = 0.019\n",
    "init_p = rounding([p1,p2,p3])"
   ]
  },
  {
   "cell_type": "code",
   "execution_count": 7,
   "id": "11711955-6835-409f-8c57-42a81e954936",
   "metadata": {},
   "outputs": [],
   "source": [
    "FIGURE_TYPE = \"3A\"\n",
    "result_A = all_recursions(n, init_p, gen)"
   ]
  },
  {
   "cell_type": "code",
   "execution_count": 8,
   "id": "87247138-6f29-4af3-a0ba-67fe14384cd6",
   "metadata": {},
   "outputs": [],
   "source": [
    "FIGURE_TYPE = \"3B\"\n",
    "result_B = all_recursions(n, init_p, gen)"
   ]
  },
  {
   "cell_type": "code",
   "execution_count": 9,
   "id": "7299d151-8b00-4023-9632-fd3c1597a6c8",
   "metadata": {},
   "outputs": [
    {
     "data": {
      "image/png": "[encoded data removed]",
      "text/plain": [
       "<Figure size 648x237.6 with 2 Axes>"
      ]
     },
     "metadata": {
      "needs_background": "light"
     },
     "output_type": "display_data"
    }
   ],
   "source": [
    "f, (ax1, ax2) = plt.subplots(1, 2, sharey=True)\n",
    "\n",
    "yrange = [-0.05, 1.05]\n",
    "ax1.set_ylim(yrange)\n",
    "ax2.set_ylim(yrange)\n",
    "\n",
    "ax1.plot(result_A[0][len(result_A[0])-61:len(result_A[0])-1], \"#D81B1B\", linewidth=1, alpha=1) # red\n",
    "ax1.plot(result_A[1][len(result_A[1])-61:len(result_A[1])-1], \"#FF9D07\", linewidth=1, alpha=1) # orange\n",
    "ax1.plot(result_A[2][len(result_A[2])-61:len(result_A[2])-1], \"#C66BF1\", linewidth = 1, alpha = 1) # purple\n",
    "ax1.set_ylabel('Variant frequency',  fontsize=12)\n",
    "ax1.set_xlabel('Generation',  fontsize=12)\n",
    "ax1.set_xticks([0, 20, 40, 60])\n",
    "ax1.set_xticklabels([9940, 9960, 9980, 10000]) \n",
    "\n",
    "ax2.plot(result_B[0][len(result_B[0])-61:len(result_B[0])-1], \"#D81B1B\", linewidth=1, alpha=1) # red\n",
    "ax2.plot(result_B[1][len(result_B[1])-61:len(result_B[1])-1], \"#FF9D07\", linewidth=1, alpha=1) # orange\n",
    "ax2.plot(result_B[2][len(result_B[2])-61:len(result_B[2])-1], \"#C66BF1\", linewidth = 1, alpha = 1) # purple\n",
    "ax2.set_xlabel('Generation',  fontsize=12)\n",
    "ax2.set_xticks([0, 20, 40, 60])\n",
    "ax2.set_xticklabels([9940, 9960, 9980, 10000]) \n",
    "\n",
    "\n",
    "ax1.set_title(r'Exact cycles')\n",
    "ax2.set_title(r'Chaos')\n",
    "\n",
    "f.set_size_inches(9, 3.3)\n",
    "plt.savefig('plot1_jan24c.pdf', bbox_inches = 'tight') \n",
    "plt.show() "
   ]
  },
  {
   "cell_type": "markdown",
   "id": "31f0d4be-470b-4772-9832-1c9bf4b786f7",
   "metadata": {},
   "source": [
    "### Determining the cycle in the left-hand panel of Figure 3"
   ]
  },
  {
   "cell_type": "code",
   "execution_count": 10,
   "id": "549da174-f316-4dc0-9532-9f730f1e9bea",
   "metadata": {},
   "outputs": [
    {
     "name": "stdout",
     "output_type": "stream",
     "text": [
      "p1 is 0.258662977462 at generation 9990 and 9988\n",
      "p3 is 0.409176597646 at generation 9990 and 9988\n",
      "p1 is 0.409176597605 at generation 9991 and 9989\n",
      "p2 is 0.33216042497 at generation 9991 and 9989\n",
      "p3 is 0.258662977425 at generation 9991 and 9989\n",
      "p1 is 0.258662977462 at generation 9992 and 9990\n",
      "p2 is 0.332160424892 at generation 9992 and 9990\n",
      "p3 is 0.409176597646 at generation 9992 and 9990\n",
      "p1 is 0.409176597605 at generation 9993 and 9991\n",
      "p2 is 0.33216042497 at generation 9993 and 9991\n",
      "p3 is 0.258662977425 at generation 9993 and 9991\n",
      "p1 is 0.258662977462 at generation 9994 and 9992\n",
      "p2 is 0.332160424892 at generation 9994 and 9992\n",
      "p3 is 0.409176597646 at generation 9994 and 9992\n",
      "p2 is 0.33216042497 at generation 9995 and 9993\n",
      "p3 is 0.258662977425 at generation 9995 and 9993\n",
      "p1 is 0.258662977462 at generation 9996 and 9994\n",
      "p2 is 0.332160424892 at generation 9996 and 9994\n",
      "p3 is 0.409176597646 at generation 9996 and 9994\n",
      "p1 is 0.409176597606 at generation 9997 and 9995\n",
      "p3 is 0.258662977425 at generation 9997 and 9995\n",
      "p1 is 0.258662977462 at generation 9998 and 9996\n",
      "p2 is 0.332160424892 at generation 9998 and 9996\n",
      "p3 is 0.409176597646 at generation 9998 and 9996\n",
      "p1 is 0.409176597606 at generation 9999 and 9997\n",
      "p2 is 0.332160424969 at generation 9999 and 9997\n",
      "p3 is 0.258662977425 at generation 9999 and 9997\n"
     ]
    }
   ],
   "source": [
    "pr = 12 # Precision\n",
    "\n",
    "for i in range(9990,10000):\n",
    "    p1, p2, p3 = round(result_A[0][i],pr), round(result_A[1][i],pr), round(result_A[2][i],pr)\n",
    "    p1_, p2_, p3_ = round(result_A[0][i-2],pr), round(result_A[1][i-2],pr), round(result_A[2][i-2],pr)\n",
    "    \n",
    "    if p1 == p1_:\n",
    "        print(\"p1 is\", p1, \"at generation\", i, \"and\", i-2)\n",
    "    if p2 == p2_:\n",
    "        print(\"p2 is\", p2, \"at generation\", i, \"and\", i-2)\n",
    "    if p3 == p3_:\n",
    "        print(\"p3 is\", p3, \"at generation\", i, \"and\", i-2)\n",
    "        "
   ]
  },
  {
   "cell_type": "markdown",
   "id": "063da9ae-ff14-42cb-bdbd-9733f9bad844",
   "metadata": {},
   "source": [
    "### Investigating the chaos in the right-hand panel of Figure 3"
   ]
  },
  {
   "cell_type": "markdown",
   "id": "ef7720be-5e5f-46c0-88c9-48bfd66a69b3",
   "metadata": {},
   "source": [
    "#### 1. Is it true chaos?"
   ]
  },
  {
   "cell_type": "code",
   "execution_count": 11,
   "id": "17a1bed3-87de-45bb-883a-6f3628face3e",
   "metadata": {},
   "outputs": [
    {
     "name": "stdout",
     "output_type": "stream",
     "text": [
      "True\n"
     ]
    }
   ],
   "source": [
    "chaos = \"True\"\n",
    "for i in range(gen):\n",
    "    if result_B[0].count(result_B[0][i]) > 1:\n",
    "        chaos = \"False\"\n",
    "    if result_B[1].count(result_B[1][i]) > 1:\n",
    "        chaos = \"False\"\n",
    "    if result_B[2].count(result_B[2][i]) > 1:\n",
    "        chaos = \"False\"\n",
    "print(chaos)"
   ]
  },
  {
   "cell_type": "markdown",
   "id": "b44275cb-521e-4661-9574-dbc6ff1ed1b1",
   "metadata": {},
   "source": [
    "#### 2. Where does it fluctuate around?"
   ]
  },
  {
   "cell_type": "code",
   "execution_count": 12,
   "id": "c23296fe-178f-4f97-9cfd-15ad630479e7",
   "metadata": {},
   "outputs": [
    {
     "name": "stdout",
     "output_type": "stream",
     "text": [
      "0.3340353991317576 0.33230800453036863 0.3336565963378742\n"
     ]
    }
   ],
   "source": [
    "sum0, sum1, sum2 = 0, 0, 0\n",
    "total = 0\n",
    "\n",
    "for i in range(5000, gen):\n",
    "    total += 1\n",
    "    sum0 += result_B[0][i]\n",
    "    sum1 += result_B[1][i]\n",
    "    sum2 += result_B[2][i]\n",
    "    \n",
    "print(sum0/total, sum1/total, sum2/total)"
   ]
  },
  {
   "cell_type": "code",
   "execution_count": null,
   "id": "e6345c87-e9d4-4472-8219-22cedcba59bc",
   "metadata": {},
   "outputs": [],
   "source": []
  },
  {
   "cell_type": "code",
   "execution_count": null,
   "id": "7605b6b2-fcb7-4cc0-9310-9e37f1ef412c",
   "metadata": {},
   "outputs": [],
   "source": []
  }
 ],
 "metadata": {
  "kernelspec": {
   "display_name": "Python 3 (ipykernel)",
   "language": "python",
   "name": "python3"
  },
  "language_info": {
   "codemirror_mode": {
    "name": "ipython",
    "version": 3
   },
   "file_extension": ".py",
   "mimetype": "text/x-python",
   "name": "python",
   "nbconvert_exporter": "python",
   "pygments_lexer": "ipython3",
   "version": "3.9.7"
  }
 },
 "nbformat": 4,
 "nbformat_minor": 5
}
